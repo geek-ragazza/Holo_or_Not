{
 "cells": [
  {
   "cell_type": "markdown",
   "metadata": {},
   "source": [
    "HOLO everyone. \n",
    "Today we are going to make an image classifier to determine its HOLO or not.\n",
    "Let's get cereal!"
   ]
  },
  {
   "cell_type": "code",
   "execution_count": 2,
   "metadata": {},
   "outputs": [],
   "source": [
    "from keras.models import Sequential\n",
    "from keras.layers import Conv2D, MaxPooling2D\n",
    "from keras.layers import Activation, Dropout, Flatten, Dense\n",
    "from keras.preprocessing.image import ImageDataGenerator, array_to_img, img_to_array, load_img"
   ]
  },
  {
   "cell_type": "code",
   "execution_count": 3,
   "metadata": {},
   "outputs": [],
   "source": [
    "model = Sequential()\n",
    "\n",
    "# First coat\n",
    "model.add(Conv2D(32, (3, 3), input_shape=(150, 150, 3), data_format='channels_first'))\n",
    "model.add(Activation('relu'))\n",
    "model.add(MaxPooling2D(pool_size=(1, 1), data_format='channels_first'))\n",
    "\n",
    "# Second coat\n",
    "model.add(Conv2D(32, (3, 3)))\n",
    "model.add(Activation('relu'))\n",
    "model.add(MaxPooling2D(pool_size=(2, 2), data_format='channels_first'))\n",
    "\n",
    "model.add(Conv2D(64, (3, 3)))\n",
    "model.add(Activation('relu'))\n",
    "model.add(MaxPooling2D(pool_size=(2, 2), data_format='channels_first'))\n",
    "\n",
    "# Taco \n",
    "model.add(Flatten())  \n",
    "model.add(Dense(64))\n",
    "model.add(Activation('relu'))\n",
    "model.add(Dropout(0.5))\n",
    "model.add(Dense(1))\n",
    "model.add(Activation('sigmoid'))\n",
    "\n",
    "model.compile(loss='binary_crossentropy',\n",
    "              optimizer='rmsprop',\n",
    "              metrics=['accuracy'])"
   ]
  },
  {
   "cell_type": "code",
   "execution_count": 4,
   "metadata": {},
   "outputs": [
    {
     "name": "stdout",
     "output_type": "stream",
     "text": [
      "Found 229 images belonging to 2 classes.\n",
      "Found 76 images belonging to 2 classes.\n",
      "Epoch 1/10\n",
      "125/125 [==============================] - 57s 454ms/step - loss: 0.7304 - acc: 0.5712 - val_loss: 0.6388 - val_acc: 0.7237\n",
      "Epoch 2/10\n",
      "125/125 [==============================] - 59s 476ms/step - loss: 0.6255 - acc: 0.6657 - val_loss: 0.6497 - val_acc: 0.6842\n",
      "Epoch 3/10\n",
      "125/125 [==============================] - 56s 449ms/step - loss: 0.5295 - acc: 0.7468 - val_loss: 0.6674 - val_acc: 0.6711\n",
      "Epoch 4/10\n",
      "125/125 [==============================] - 63s 506ms/step - loss: 0.4493 - acc: 0.7915 - val_loss: 0.7916 - val_acc: 0.6579\n",
      "Epoch 5/10\n",
      "125/125 [==============================] - 59s 469ms/step - loss: 0.3763 - acc: 0.8392 - val_loss: 1.0022 - val_acc: 0.6711\n",
      "Epoch 6/10\n",
      "125/125 [==============================] - 61s 492ms/step - loss: 0.3403 - acc: 0.8606 - val_loss: 0.7295 - val_acc: 0.6711\n",
      "Epoch 7/10\n",
      "125/125 [==============================] - 66s 527ms/step - loss: 0.3023 - acc: 0.8785 - val_loss: 0.9899 - val_acc: 0.6316\n",
      "Epoch 8/10\n",
      "125/125 [==============================] - 56s 445ms/step - loss: 0.2319 - acc: 0.9075 - val_loss: 0.7541 - val_acc: 0.7237\n",
      "Epoch 9/10\n",
      "125/125 [==============================] - 68s 546ms/step - loss: 0.2370 - acc: 0.9111 - val_loss: 1.2814 - val_acc: 0.7895\n",
      "Epoch 10/10\n",
      "125/125 [==============================] - 57s 455ms/step - loss: 0.2014 - acc: 0.9186 - val_loss: 0.8298 - val_acc: 0.8684\n"
     ]
    }
   ],
   "source": [
    "batch_size = 16\n",
    "\n",
    "train_datagen = ImageDataGenerator(\n",
    "        rescale=1./255,\n",
    "        shear_range=0.2,\n",
    "        zoom_range=0.2,\n",
    "        horizontal_flip=True)\n",
    "test_datagen = ImageDataGenerator(rescale=1./255)\n",
    "\n",
    "train_generator = train_datagen.flow_from_directory(\n",
    "        'train',  \n",
    "        target_size=(150, 150),  \n",
    "        batch_size=batch_size,\n",
    "        class_mode='binary')  \n",
    "\n",
    "\n",
    "validation_generator = test_datagen.flow_from_directory(\n",
    "        'validation',\n",
    "        target_size=(150, 150),\n",
    "        batch_size=batch_size,\n",
    "        class_mode='binary')\n",
    "\n",
    "# time to bake\n",
    "model.fit_generator(\n",
    "        train_generator,\n",
    "        steps_per_epoch=2000 // batch_size,\n",
    "        epochs=10,\n",
    "        validation_data=validation_generator,\n",
    "        validation_steps=800 // batch_size)\n",
    "# bake that shit for a few minutes\n",
    "\n",
    "\n",
    "model.save('holo_model.h5')"
   ]
  },
  {
   "cell_type": "code",
   "execution_count": 6,
   "metadata": {},
   "outputs": [
    {
     "data": {
      "text/html": [
       "<h1>Is it real HOLO ?</h1><img style=\"width:50%\" src='beauty_guru_1.jpg'><h1>It's REAL HOLO</h1>"
      ],
      "text/plain": [
       "<IPython.core.display.HTML object>"
      ]
     },
     "metadata": {},
     "output_type": "display_data"
    },
    {
     "data": {
      "text/html": [
       "<h1>Is it real HOLO ?</h1><img style=\"width:50%\" src='beauty_guru_2.jpg'><h1>It's FAKE HOLO</h1>"
      ],
      "text/plain": [
       "<IPython.core.display.HTML object>"
      ]
     },
     "metadata": {},
     "output_type": "display_data"
    },
    {
     "data": {
      "text/html": [
       "<h1>Is it real HOLO ?</h1><img style=\"width:50%\" src='beauty_guru_3.jpg'><h1>It's REAL HOLO</h1>"
      ],
      "text/plain": [
       "<IPython.core.display.HTML object>"
      ]
     },
     "metadata": {},
     "output_type": "display_data"
    },
    {
     "data": {
      "text/html": [
       "<h1>Is it real HOLO ?</h1><img style=\"width:50%\" src='beauty_guru_4.jpg'><h1>It's FAKE HOLO</h1>"
      ],
      "text/plain": [
       "<IPython.core.display.HTML object>"
      ]
     },
     "metadata": {},
     "output_type": "display_data"
    },
    {
     "data": {
      "text/html": [
       "<h1>Is it real HOLO ?</h1><img style=\"width:50%\" src='beauty_guru_5.jpg'><h1>It's REAL HOLO</h1>"
      ],
      "text/plain": [
       "<IPython.core.display.HTML object>"
      ]
     },
     "metadata": {},
     "output_type": "display_data"
    },
    {
     "data": {
      "text/html": [
       "<h1>Is it real HOLO ?</h1><img style=\"width:50%\" src='beauty_guru_6.jpg'><h1>It's REAL HOLO</h1>"
      ],
      "text/plain": [
       "<IPython.core.display.HTML object>"
      ]
     },
     "metadata": {},
     "output_type": "display_data"
    }
   ],
   "source": [
    "from IPython.display import display, HTML\n",
    "from keras.models import load_model\n",
    "from PIL import Image\n",
    "import numpy as np\n",
    "\n",
    "model = load_model('holo_model.h5')\n",
    "result_dict = {val:key for (key, val) in train_generator.class_indices.items()}\n",
    "\n",
    "for i in range(1, 7):\n",
    "    img = load_img('test/beauty_guru_{}.jpg'.format(i))\n",
    "\n",
    "    resized_img = img.resize( (150, 150), Image.BILINEAR )\n",
    "    resized_img = np.reshape(resized_img,[1,150,150,3])\n",
    "    # whaddaya think\n",
    "    classes = model.predict_classes(resized_img)\n",
    "    \n",
    "    result_text = \"It's {0}\".format(' '.join(result_dict[classes[0][0]].split('_')).upper())\n",
    "    display(HTML('''<h1>Is it real HOLO ?</h1><img style=\"width:50%\" src='test/beauty_guru_{0}.jpg'><h1>{1}</h1>'''.format(i, result_text)))"
   ]
  },
  {
   "cell_type": "code",
   "execution_count": null,
   "metadata": {},
   "outputs": [],
   "source": []
  }
 ],
 "metadata": {
  "kernelspec": {
   "display_name": "Python 3",
   "language": "python",
   "name": "python3"
  },
  "language_info": {
   "codemirror_mode": {
    "name": "ipython",
    "version": 3
   },
   "file_extension": ".py",
   "mimetype": "text/x-python",
   "name": "python",
   "nbconvert_exporter": "python",
   "pygments_lexer": "ipython3",
   "version": "3.6.3"
  }
 },
 "nbformat": 4,
 "nbformat_minor": 2
}
