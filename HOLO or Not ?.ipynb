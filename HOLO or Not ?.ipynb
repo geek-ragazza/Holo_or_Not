{
 "cells": [
  {
   "cell_type": "markdown",
   "metadata": {},
   "source": [
    "HOLO everyone. \n",
    "Today we are going to make an image classifier to determine its HOLO or not.\n",
    "Let's get cereal!"
   ]
  },
  {
   "cell_type": "code",
   "execution_count": 2,
   "metadata": {},
   "outputs": [],
   "source": [
    "from keras.models import Sequential\n",
    "from keras.layers import Conv2D, MaxPooling2D\n",
    "from keras.layers import Activation, Dropout, Flatten, Dense\n",
    "from keras.preprocessing.image import ImageDataGenerator, array_to_img, img_to_array, load_img"
   ]
  },
  {
   "cell_type": "code",
   "execution_count": 3,
   "metadata": {},
   "outputs": [],
   "source": [
    "model = Sequential()\n",
    "\n",
    "# First coat\n",
    "model.add(Conv2D(32, (3, 3), input_shape=(150, 150, 3), data_format='channels_first'))\n",
    "model.add(Activation('relu'))\n",
    "model.add(MaxPooling2D(pool_size=(1, 1), data_format='channels_first'))\n",
    "\n",
    "# Second coat\n",
    "model.add(Conv2D(32, (3, 3)))\n",
    "model.add(Activation('relu'))\n",
    "model.add(MaxPooling2D(pool_size=(2, 2), data_format='channels_first'))\n",
    "\n",
    "model.add(Conv2D(64, (3, 3)))\n",
    "model.add(Activation('relu'))\n",
    "model.add(MaxPooling2D(pool_size=(2, 2), data_format='channels_first'))\n",
    "\n",
    "# Taco \n",
    "model.add(Flatten())  \n",
    "model.add(Dense(64))\n",
    "model.add(Activation('relu'))\n",
    "model.add(Dropout(0.5))\n",
    "model.add(Dense(1))\n",
    "model.add(Activation('sigmoid'))\n",
    "\n",
    "model.compile(loss='binary_crossentropy',\n",
    "              optimizer='rmsprop',\n",
    "              metrics=['accuracy'])"
   ]
  },
  {
   "cell_type": "code",
   "execution_count": 4,
   "metadata": {},
   "outputs": [
    {
     "name": "stdout",
     "output_type": "stream",
     "text": [
      "Found 229 images belonging to 2 classes.\n",
      "Found 76 images belonging to 2 classes.\n",
      "Epoch 1/10\n",
      "125/125 [==============================] - 59s 471ms/step - loss: 0.7618 - acc: 0.5613 - val_loss: 0.6881 - val_acc: 0.5263\n",
      "Epoch 2/10\n",
      "125/125 [==============================] - 55s 440ms/step - loss: 0.6670 - acc: 0.6371 - val_loss: 0.6456 - val_acc: 0.6053\n",
      "Epoch 3/10\n",
      "125/125 [==============================] - 55s 441ms/step - loss: 0.5778 - acc: 0.7128 - val_loss: 1.1187 - val_acc: 0.5000\n",
      "Epoch 4/10\n",
      "125/125 [==============================] - 56s 446ms/step - loss: 0.5163 - acc: 0.7441 - val_loss: 0.6109 - val_acc: 0.6579\n",
      "Epoch 5/10\n",
      "125/125 [==============================] - 58s 464ms/step - loss: 0.4594 - acc: 0.7948 - val_loss: 0.6703 - val_acc: 0.6579\n",
      "Epoch 6/10\n",
      "125/125 [==============================] - 55s 442ms/step - loss: 0.4080 - acc: 0.8186 - val_loss: 0.6974 - val_acc: 0.7763\n",
      "Epoch 7/10\n",
      "125/125 [==============================] - 53s 424ms/step - loss: 0.3572 - acc: 0.8481 - val_loss: 0.9054 - val_acc: 0.6447\n",
      "Epoch 8/10\n",
      "125/125 [==============================] - 50s 402ms/step - loss: 0.3767 - acc: 0.8628 - val_loss: 1.2742 - val_acc: 0.6974\n",
      "Epoch 9/10\n",
      "125/125 [==============================] - 53s 428ms/step - loss: 0.2955 - acc: 0.8893 - val_loss: 0.9933 - val_acc: 0.7105\n",
      "Epoch 10/10\n",
      "125/125 [==============================] - 53s 422ms/step - loss: 0.3066 - acc: 0.8970 - val_loss: 1.1048 - val_acc: 0.6842\n"
     ]
    }
   ],
   "source": [
    "batch_size = 16\n",
    "\n",
    "train_datagen = ImageDataGenerator(\n",
    "        rescale=1./255,\n",
    "        shear_range=0.2,\n",
    "        zoom_range=0.2,\n",
    "        horizontal_flip=True)\n",
    "test_datagen = ImageDataGenerator(rescale=1./255)\n",
    "\n",
    "train_generator = train_datagen.flow_from_directory(\n",
    "        'train',  \n",
    "        target_size=(150, 150),  \n",
    "        batch_size=batch_size,\n",
    "        class_mode='binary')  \n",
    "\n",
    "\n",
    "validation_generator = test_datagen.flow_from_directory(\n",
    "        'validation',\n",
    "        target_size=(150, 150),\n",
    "        batch_size=batch_size,\n",
    "        class_mode='binary')\n",
    "\n",
    "# time to bake\n",
    "model.fit_generator(\n",
    "        train_generator,\n",
    "        steps_per_epoch=2000 // batch_size,\n",
    "        epochs=10,\n",
    "        validation_data=validation_generator,\n",
    "        validation_steps=800 // batch_size)\n",
    "# bake that shit for a few minutes\n",
    "\n",
    "\n",
    "model.save('holo_model.h5')"
   ]
  },
  {
   "cell_type": "code",
   "execution_count": 7,
   "metadata": {},
   "outputs": [
    {
     "data": {
      "text/html": [
       "<h1>Is it real HOLO ?</h1><img style=\"width:50%\" src='test/beauty_guru_1.jpg'><h1>It's REAL HOLO</h1>"
      ],
      "text/plain": [
       "<IPython.core.display.HTML object>"
      ]
     },
     "metadata": {},
     "output_type": "display_data"
    },
    {
     "data": {
      "text/html": [
       "<h1>Is it real HOLO ?</h1><img style=\"width:50%\" src='test/beauty_guru_2.jpg'><h1>It's FAKE HOLO</h1>"
      ],
      "text/plain": [
       "<IPython.core.display.HTML object>"
      ]
     },
     "metadata": {},
     "output_type": "display_data"
    },
    {
     "data": {
      "text/html": [
       "<h1>Is it real HOLO ?</h1><img style=\"width:50%\" src='test/beauty_guru_3.jpg'><h1>It's REAL HOLO</h1>"
      ],
      "text/plain": [
       "<IPython.core.display.HTML object>"
      ]
     },
     "metadata": {},
     "output_type": "display_data"
    },
    {
     "data": {
      "text/html": [
       "<h1>Is it real HOLO ?</h1><img style=\"width:50%\" src='test/beauty_guru_4.jpg'><h1>It's FAKE HOLO</h1>"
      ],
      "text/plain": [
       "<IPython.core.display.HTML object>"
      ]
     },
     "metadata": {},
     "output_type": "display_data"
    },
    {
     "data": {
      "text/html": [
       "<h1>Is it real HOLO ?</h1><img style=\"width:50%\" src='test/beauty_guru_5.jpg'><h1>It's REAL HOLO</h1>"
      ],
      "text/plain": [
       "<IPython.core.display.HTML object>"
      ]
     },
     "metadata": {},
     "output_type": "display_data"
    }
   ],
   "source": [
    "from IPython.display import display, HTML\n",
    "from keras.models import load_model\n",
    "from PIL import Image\n",
    "import numpy as np\n",
    "\n",
    "model = load_model('holo_model.h5')\n",
    "result_dict = {val:key for (key, val) in train_generator.class_indices.items()}\n",
    "\n",
    "for i in range(1, 6):\n",
    "    img = load_img('test/beauty_guru_{}.jpg'.format(i))\n",
    "\n",
    "    resized_img = img.resize( (150, 150), Image.BILINEAR )\n",
    "    resized_img = np.reshape(resized_img,[1,150,150,3])\n",
    "    # whaddaya think\n",
    "    classes = model.predict_classes(resized_img)\n",
    "    \n",
    "    result_text = \"It's {0}\".format(' '.join(result_dict[classes[0][0]].split('_')).upper())\n",
    "    display(HTML('''<h1>Is it real HOLO ?</h1><img style=\"width:50%\" src='test/beauty_guru_{0}.jpg'><h1>{1}</h1>'''.format(i, result_text)))"
   ]
  },
  {
   "cell_type": "code",
   "execution_count": null,
   "metadata": {},
   "outputs": [],
   "source": []
  }
 ],
 "metadata": {
  "kernelspec": {
   "display_name": "Python 3",
   "language": "python",
   "name": "python3"
  },
  "language_info": {
   "codemirror_mode": {
    "name": "ipython",
    "version": 3
   },
   "file_extension": ".py",
   "mimetype": "text/x-python",
   "name": "python",
   "nbconvert_exporter": "python",
   "pygments_lexer": "ipython3",
   "version": "3.6.3"
  }
 },
 "nbformat": 4,
 "nbformat_minor": 2
}
